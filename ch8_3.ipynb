{
 "cells": [
  {
   "cell_type": "markdown",
   "metadata": {},
   "source": [
    "# Encapsulation"
   ]
  },
  {
   "cell_type": "code",
   "execution_count": 5,
   "metadata": {},
   "outputs": [
    {
     "name": "stdout",
     "output_type": "stream",
     "text": [
      "The Book Name  is :  the witchers\n",
      "The Book Name  is :  the witchers returns\n"
     ]
    }
   ],
   "source": [
    "class Library:\n",
    "    def __init__(self,id,name):\n",
    "        self.bookid=id\n",
    "        self.bookname=name\n",
    "    def setbookname(self,newbookname):\n",
    "        self.bookname=newbookname\n",
    "    def getbookname(self):\n",
    "        print(\"The Book Name  is : \",self.bookname)\n",
    "b1=Library(1,'the witchers')\n",
    "b1.getbookname()\n",
    "b1.setbookname('the witchers returns')\n",
    "b1.getbookname()"
   ]
  },
  {
   "cell_type": "code",
   "execution_count": 8,
   "metadata": {},
   "outputs": [
    {
     "name": "stdout",
     "output_type": "stream",
     "text": [
      "[0, 2, 4, 6, 8]\n"
     ]
    }
   ],
   "source": [
    "def simple():\n",
    "    for i in range(10):\n",
    "        if i%2==0:\n",
    "            yield i\n",
    "x=simple()\n",
    "print(list(x))"
   ]
  },
  {
   "cell_type": "code",
   "execution_count": 9,
   "metadata": {},
   "outputs": [
    {
     "ename": "TypeError",
     "evalue": "'int' object is not iterable",
     "output_type": "error",
     "traceback": [
      "\u001b[1;31m---------------------------------------------------------------------------\u001b[0m",
      "\u001b[1;31mTypeError\u001b[0m                                 Traceback (most recent call last)",
      "\u001b[1;32m<ipython-input-9-12278a3f4a9c>\u001b[0m in \u001b[0;36m<module>\u001b[1;34m\u001b[0m\n\u001b[0;32m      3\u001b[0m         \u001b[1;32mif\u001b[0m \u001b[0mi\u001b[0m\u001b[1;33m%\u001b[0m\u001b[1;36m2\u001b[0m\u001b[1;33m==\u001b[0m\u001b[1;36m0\u001b[0m\u001b[1;33m:\u001b[0m\u001b[1;33m\u001b[0m\u001b[1;33m\u001b[0m\u001b[0m\n\u001b[0;32m      4\u001b[0m             \u001b[1;32mreturn\u001b[0m \u001b[0mi\u001b[0m\u001b[1;33m\u001b[0m\u001b[1;33m\u001b[0m\u001b[0m\n\u001b[1;32m----> 5\u001b[1;33m \u001b[1;32mfor\u001b[0m \u001b[0mi\u001b[0m \u001b[1;32min\u001b[0m \u001b[0msimple\u001b[0m\u001b[1;33m(\u001b[0m\u001b[1;33m)\u001b[0m\u001b[1;33m:\u001b[0m\u001b[1;33m\u001b[0m\u001b[1;33m\u001b[0m\u001b[0m\n\u001b[0m\u001b[0;32m      6\u001b[0m     \u001b[0mprint\u001b[0m\u001b[1;33m(\u001b[0m\u001b[0mi\u001b[0m\u001b[1;33m)\u001b[0m\u001b[1;33m\u001b[0m\u001b[1;33m\u001b[0m\u001b[0m\n",
      "\u001b[1;31mTypeError\u001b[0m: 'int' object is not iterable"
     ]
    }
   ],
   "source": [
    "def simple():\n",
    "    for i in range(10):\n",
    "        if i%2==0:\n",
    "            return i\n",
    "for i in simple():\n",
    "    print(i)"
   ]
  },
  {
   "cell_type": "code",
   "execution_count": 10,
   "metadata": {},
   "outputs": [
    {
     "name": "stdout",
     "output_type": "stream",
     "text": [
      "0\n",
      "2\n",
      "4\n",
      "6\n",
      "8\n"
     ]
    }
   ],
   "source": [
    "def simple():\n",
    "    for i in range(10):\n",
    "        if i%2==0:\n",
    "            yield i\n",
    "for i in simple():\n",
    "    print(i)"
   ]
  },
  {
   "cell_type": "code",
   "execution_count": 11,
   "metadata": {},
   "outputs": [
    {
     "name": "stdout",
     "output_type": "stream",
     "text": [
      "10\n",
      "20\n",
      "30\n",
      "40\n"
     ]
    }
   ],
   "source": [
    "def fun():\n",
    "    return 10,20,30,40\n",
    "for i in fun():\n",
    "    print(i)"
   ]
  },
  {
   "cell_type": "code",
   "execution_count": 12,
   "metadata": {},
   "outputs": [
    {
     "name": "stdout",
     "output_type": "stream",
     "text": [
      "(10, 20, 30, 40)\n"
     ]
    }
   ],
   "source": [
    "def fun():\n",
    "    yield 10,20,30,40\n",
    "for i in fun():\n",
    "    print(i)"
   ]
  },
  {
   "cell_type": "code",
   "execution_count": 15,
   "metadata": {},
   "outputs": [
    {
     "name": "stdout",
     "output_type": "stream",
     "text": [
      "surat\n",
      "surat1\n",
      "-------------------\n",
      "surat2\n",
      "surat3\n",
      "surat4\n",
      "surat5\n"
     ]
    }
   ],
   "source": [
    "def city():\n",
    "    yield  \"surat\"\n",
    "    yield  \"surat1\"    \n",
    "    yield  \"surat2\"    \n",
    "    yield  \"surat3\"    \n",
    "    yield  \"surat4\"    \n",
    "    yield  \"surat5\"    \n",
    "    \n",
    "ct=city()\n",
    "print(next(ct))\n",
    "print(next(ct))\n",
    "print('-------------------')\n",
    "for i in ct:\n",
    "    print(i)"
   ]
  },
  {
   "cell_type": "code",
   "execution_count": 18,
   "metadata": {},
   "outputs": [
    {
     "name": "stdout",
     "output_type": "stream",
     "text": [
      "15\n",
      "30\n",
      "45\n",
      "60\n",
      "75\n",
      "90\n",
      "105\n",
      "120\n",
      "135\n",
      "150\n"
     ]
    }
   ],
   "source": [
    "#wap to print the tabe of the given number using generator\n",
    "def table(a):\n",
    "    for i in range(1,11):\n",
    "        yield a*i\n",
    "x=table(15)\n",
    "\n",
    "for i in x:\n",
    "    print(i)"
   ]
  },
  {
   "cell_type": "code",
   "execution_count": 5,
   "metadata": {
    "scrolled": false
   },
   "outputs": [
    {
     "name": "stdout",
     "output_type": "stream",
     "text": [
      "Enter Name : purvesh\n",
      "Enter Rollno : 128\n",
      "Enter Marks as List[90,95,90,95,96]\n",
      "name :  purvesh\n",
      "roll nu :  128\n",
      "Branch :  CSE\n",
      "90\n",
      "95\n",
      "90\n",
      "95\n",
      "96\n",
      "Average :  93.2\n",
      "Enter Name : om\n",
      "Enter Rollno : 123\n",
      "Enter Marks as List[90,95,90,95,96]\n",
      "name :  om\n",
      "roll nu :  123\n",
      "Branch :  CSE\n",
      "90\n",
      "95\n",
      "90\n",
      "95\n",
      "96\n",
      "Average :  93.2\n",
      "Enter Name : vansh\n",
      "Enter Rollno : 134\n",
      "Enter Marks as List[90,95,90,95,96]\n",
      "name :  vansh\n",
      "roll nu :  134\n",
      "Branch :  CSE\n",
      "90\n",
      "95\n",
      "90\n",
      "95\n",
      "96\n",
      "Average :  93.2\n"
     ]
    }
   ],
   "source": [
    "#wap to create a class student there are three attributies branch,rollnumber and name consider branch as a class vairable create a deifferent mathodes enter marks of 5 subjectsto create a display function which displays the name rollnumber barnch and also the marks if it is avalible also calculate the average of all the marks\n",
    "class student:\n",
    "    branch='CSE'\n",
    "    def __init__(self,name,roll):\n",
    "        self.name=name\n",
    "        self.roll=roll\n",
    "    def setmarks(self,a):\n",
    "        self.a=a\n",
    "    def getdata(self):\n",
    "        if len(a)!=0:\n",
    "            print(\"name : \",self.name)\n",
    "            print(\"roll nu : \",self.roll)\n",
    "            print('Branch : ',student.branch)\n",
    "            for i in range(len(self.a)):\n",
    "                print(self.a[i])\n",
    "        else:\n",
    "            self.a=eval(input(\"Enter Marks as List\"))\n",
    "            print(\"name : \",self.name)\n",
    "            print(\"roll nu : \",self.roll)\n",
    "            print('Branch : ',student.branch)\n",
    "            for i in range(len(self.a)):\n",
    "                print(self.a[i])\n",
    "                \n",
    "    def average(self):\n",
    "        self.sum=0\n",
    "        for i in range(len(self.a)):\n",
    "            self.sum=self.sum+self.a[i]\n",
    "        print('Average : ',self.sum/5)\n",
    "        \n",
    "\n",
    "for i in range(3):\n",
    "\n",
    "    a1=student(input(\"Enter Name : \"),input(\"Enter Rollno : \"))\n",
    "    a=[]\n",
    "    a1.setmarks(a)\n",
    "    a1.getdata()\n",
    "    a1.average()\n",
    "            "
   ]
  },
  {
   "cell_type": "code",
   "execution_count": 5,
   "metadata": {},
   "outputs": [
    {
     "name": "stdout",
     "output_type": "stream",
     "text": [
      "upper :  6\n",
      "lower :  14\n",
      "digit :  4\n",
      "space :  4\n",
      "vov :  7\n",
      "con :  13\n"
     ]
    }
   ],
   "source": [
    "#wap to create class string and make maethodes ro count upper case lower case vovels consoneten spaces and digits from the string entered by user\n",
    "class String:\n",
    "    def __init__(self,a):\n",
    "        self.a=a\n",
    "    def count(self):\n",
    "        self.uc=0\n",
    "        self.lc=0\n",
    "        self.vov=0\n",
    "        self.con=0\n",
    "        self.dg=0\n",
    "        self.sp=0\n",
    "        \n",
    "        for i in self.a:\n",
    "            if i.isupper():\n",
    "                self.uc+=1\n",
    "            if i.islower():\n",
    "                self.lc+=1\n",
    "            if i.isdigit():\n",
    "                self.dg+=1\n",
    "            if i.isspace():\n",
    "                self.sp+=1\n",
    "        print(\"upper : \",self.uc)\n",
    "        print(\"lower : \",self.lc)\n",
    "                \n",
    "        print(\"digit : \",self.dg)\n",
    "                \n",
    "        print(\"space : \",self.sp)\n",
    "                \n",
    "                \n",
    "    def vovl(self):\n",
    "        for i in self.a:\n",
    "            if i.lower()=='a' or i.lower()=='e' or i.lower()=='i' or i.lower()=='o' or i.lower()=='u':\n",
    "                self.vov+=1\n",
    "            else:\n",
    "                self.con+=1\n",
    "        print(\"vov : \",self.vov)\n",
    "        print(\"con : \",self.con-self.dg-self.sp)\n",
    "        \n",
    "s=String(\"HeLlo My Name Is Purvesh9833\")\n",
    "s.count()\n",
    "s.vovl()"
   ]
  },
  {
   "cell_type": "code",
   "execution_count": null,
   "metadata": {},
   "outputs": [],
   "source": []
  }
 ],
 "metadata": {
  "kernelspec": {
   "display_name": "Python 3",
   "language": "python",
   "name": "python3"
  },
  "language_info": {
   "codemirror_mode": {
    "name": "ipython",
    "version": 3
   },
   "file_extension": ".py",
   "mimetype": "text/x-python",
   "name": "python",
   "nbconvert_exporter": "python",
   "pygments_lexer": "ipython3",
   "version": "3.8.5"
  }
 },
 "nbformat": 4,
 "nbformat_minor": 4
}
