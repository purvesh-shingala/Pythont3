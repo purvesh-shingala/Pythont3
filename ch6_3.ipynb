{
 "cells": [
  {
   "cell_type": "code",
   "execution_count": 11,
   "metadata": {},
   "outputs": [],
   "source": [
    "f1=open('programe.txt','r')\n",
    "f=open('demo.txt','w')\n",
    "a=f1.readlines()\n",
    "for i in a:\n",
    "    if i[0]==\"#\":\n",
    "        continue\n",
    "    elif \"#\" in i:\n",
    "        for j in range(1,len(i)):\n",
    "            if i[j]==\"#\":\n",
    "                f.write(i[0:j-1]+\"\\n\")\n",
    "    else:\n",
    "        f.write(i)\n",
    "\n",
    "f.close()"
   ]
  },
  {
   "cell_type": "code",
   "execution_count": 19,
   "metadata": {},
   "outputs": [
    {
     "name": "stdout",
     "output_type": "stream",
     "text": [
      "line :  2\n",
      "index :  9\n",
      "p | P\n",
      "line :  4\n",
      "index :  9\n",
      "j | J\n"
     ]
    }
   ],
   "source": [
    "#wap to compare wo files and find the differance in line and characteres\n",
    "f=open('programe.txt','r')\n",
    "f1=open('demo.txt','r')\n",
    "a=f.readlines()\n",
    "a1=f1.readlines()\n",
    "\n",
    "for i in range(len(a)):\n",
    "    for j in range(len(a[i])):\n",
    "        if a[i][j]!=a1[i][j]:\n",
    "            print(\"line : \",i+1)\n",
    "            print(\"index : \",j+1)\n",
    "            print(a[i][j],\"|\",a1[i][j])\n",
    "   \n",
    "   "
   ]
  },
  {
   "cell_type": "code",
   "execution_count": 31,
   "metadata": {},
   "outputs": [
    {
     "name": "stdout",
     "output_type": "stream",
     "text": [
      "word :  13\n",
      "char :  44\n",
      "space :  9\n"
     ]
    }
   ],
   "source": [
    "#wap to count words , characters and spaces in the text file\n",
    "f=open('demo.txt','r')\n",
    "a=f.readlines()\n",
    "\n",
    "wc=0\n",
    "cc=0\n",
    "sc=0\n",
    "for i in range(len(a)):\n",
    "    x=a[i].count(\"\\n\")\n",
    "    a1=a[i].split(' ')\n",
    "    wc=wc+len(a1)\n",
    "    for j in range(len(a[i])):\n",
    "        if a[i][j].isalnum():\n",
    "            cc=cc+1\n",
    "        elif a[i][j].isspace():\n",
    "            sc=sc+1\n",
    "    sc=sc-x\n",
    "print('word : ',wc)\n",
    "print('char : ',cc)\n",
    "print('space : ',sc)\n",
    "\n"
   ]
  },
  {
   "cell_type": "code",
   "execution_count": 30,
   "metadata": {},
   "outputs": [
    {
     "data": {
      "text/plain": [
       "9"
      ]
     },
     "execution_count": 30,
     "metadata": {},
     "output_type": "execute_result"
    }
   ],
   "source": [
    "f=open('demo.txt','r')\n",
    "x=f.read()\n",
    "x.count(\" \")"
   ]
  }
 ],
 "metadata": {
  "kernelspec": {
   "display_name": "Python 3",
   "language": "python",
   "name": "python3"
  },
  "language_info": {
   "codemirror_mode": {
    "name": "ipython",
    "version": 3
   },
   "file_extension": ".py",
   "mimetype": "text/x-python",
   "name": "python",
   "nbconvert_exporter": "python",
   "pygments_lexer": "ipython3",
   "version": "3.8.5"
  }
 },
 "nbformat": 4,
 "nbformat_minor": 4
}
