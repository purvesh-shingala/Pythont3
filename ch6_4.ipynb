{
 "cells": [
  {
   "cell_type": "code",
   "execution_count": 5,
   "metadata": {},
   "outputs": [],
   "source": [
    "#wap to read line bty line from given files file1 and file2 and write into file 3\n",
    "f=open('demo.txt','r')\n",
    "f1=open('data.txt','r')\n",
    "f2=open('data1.txt','w+')\n",
    "a=f1.readlines()\n",
    "b=f.readlines()\n",
    "\n",
    "if a<b:\n",
    "    for i in range(len(b)):\n",
    "        if i>len(a):\n",
    "            f2.write(b[i])\n",
    "        else:\n",
    "            f2.write(a[i])\n",
    "            f2.write(b[i])   \n",
    "else:\n",
    "    for i in range(len(a)):\n",
    "        if i>len(b):\n",
    "            f2.write(a[i])\n",
    "        else:\n",
    "            f2.write(a[i])\n",
    "            f2.write(b[i]) \n",
    "f2.close()\n",
    "    "
   ]
  },
  {
   "cell_type": "code",
   "execution_count": 13,
   "metadata": {},
   "outputs": [
    {
     "name": "stdout",
     "output_type": "stream",
     "text": [
      "University\n",
      "10\n"
     ]
    }
   ],
   "source": [
    "#wap to find the longest owrd in text file \n",
    "f=open('data1.txt','r')\n",
    "a=f.readlines()\n",
    "b=''\n",
    "for i in range(len(a)):\n",
    "    b=b+a[i]+' '\n",
    "c=''\n",
    "d=0\n",
    "b1=b.split(' ')\n",
    "for i in range(len(b1)):\n",
    "    if len(b1[i])>len(c):\n",
    "        c=b1[i]\n",
    "        d=len(b1[i])\n",
    "        \n",
    "print(c)\n",
    "print(d)        \n"
   ]
  },
  {
   "cell_type": "code",
   "execution_count": null,
   "metadata": {},
   "outputs": [],
   "source": []
  }
 ],
 "metadata": {
  "kernelspec": {
   "display_name": "Python 3",
   "language": "python",
   "name": "python3"
  },
  "language_info": {
   "codemirror_mode": {
    "name": "ipython",
    "version": 3
   },
   "file_extension": ".py",
   "mimetype": "text/x-python",
   "name": "python",
   "nbconvert_exporter": "python",
   "pygments_lexer": "ipython3",
   "version": "3.8.5"
  }
 },
 "nbformat": 4,
 "nbformat_minor": 4
}
