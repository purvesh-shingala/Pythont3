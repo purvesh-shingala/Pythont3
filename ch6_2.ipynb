{
 "cells": [
  {
   "cell_type": "code",
   "execution_count": 11,
   "metadata": {},
   "outputs": [
    {
     "name": "stdout",
     "output_type": "stream",
     "text": [
      "False\n",
      "demo.txt\n",
      "r+\n",
      "True\n",
      "True\n"
     ]
    }
   ],
   "source": [
    "f=open('demo.txt','r+')\n",
    "print(f.closed)\n",
    "print(f.name)\n",
    "print(f.mode)\n",
    "print(f.readable())\n",
    "print(f.writable())"
   ]
  },
  {
   "cell_type": "code",
   "execution_count": 18,
   "metadata": {},
   "outputs": [],
   "source": [
    "#write a programe to copy the content of one flie to anonother file\n",
    "f=open('demo.txt','r')\n",
    "f1=open('task1.txt','w')\n",
    "g=f.read()\n",
    "f1.write(g)\n",
    "f1.close()"
   ]
  },
  {
   "cell_type": "code",
   "execution_count": 32,
   "metadata": {},
   "outputs": [],
   "source": [
    "#wap write a dictionary to the file in python \n",
    "d={'name' : 'alice','\\nage' : '21', '\\ndegree': 'CSE','\\nUniversity':'oxferd'}\n",
    "f=open('data.txt','w')\n",
    "for i,j in d.items():\n",
    "    a=str(i)+' : '+str(j)\n",
    "    f.writelines(a)\n",
    "f.close()\n"
   ]
  },
  {
   "cell_type": "code",
   "execution_count": 33,
   "metadata": {},
   "outputs": [],
   "source": [
    "#wap to copy the content of one file to aother file in uppercase\n",
    "f=open('demo.txt','r')\n",
    "f1=open('task1.txt','w')\n",
    "g=f.read()\n",
    "f1.write(g.upper())\n",
    "f1.close()"
   ]
  },
  {
   "cell_type": "code",
   "execution_count": 35,
   "metadata": {},
   "outputs": [],
   "source": [
    "f=open('demo.txt','r')\n",
    "f1=open('task1.txt','w')\n",
    "g=f.read()\n",
    "f1.write(g[::-1])\n",
    "f1.close()\n",
    "#reverse the content"
   ]
  },
  {
   "cell_type": "code",
   "execution_count": 36,
   "metadata": {},
   "outputs": [],
   "source": [
    "f=open('data.txt','r')\n",
    "f1=open('task1.txt','w')\n",
    "a=f.readlines()\n",
    "f1.writelines(a[::-1])\n",
    "f1.close()"
   ]
  },
  {
   "cell_type": "code",
   "execution_count": 42,
   "metadata": {},
   "outputs": [
    {
     "name": "stdout",
     "output_type": "stream",
     "text": [
      "Enter line no : 2\n",
      "['age : 21\\n']\n"
     ]
    }
   ],
   "source": [
    "#wap to read specific line from the file \n",
    "a=int(input('Enter line no : '))\n",
    "f=open('data.txt','r')\n",
    "c=f.readlines()\n",
    "print(c[a-1:a])"
   ]
  },
  {
   "cell_type": "code",
   "execution_count": 48,
   "metadata": {},
   "outputs": [],
   "source": [
    "#write a programe to copy the odd lines from one files to other files\n",
    "f=open('data.txt','r')\n",
    "c=f.readlines()\n",
    "f1=open('task1.txt','w')\n",
    "d=c[::2]\n",
    "f1.writelines(d)\n",
    "f1.close()"
   ]
  },
  {
   "cell_type": "code",
   "execution_count": 4,
   "metadata": {},
   "outputs": [
    {
     "name": "stdout",
     "output_type": "stream",
     "text": [
      "Enter File Name : demo1.txt\n",
      "This Is Pythone 1\n",
      "This Is Pythone 2\n",
      "This Is Pythone 3\n",
      "This Is Pythone 4\n",
      "This Is Pythone 5\n",
      "\n",
      "Enter any key for continue : \n",
      "This Is Pythone 6\n",
      "This Is Pythone 7\n",
      "This Is Pythone 8\n",
      "This Is Pythone 9\n",
      "This Is Pythone 10\n",
      "\n",
      "Enter any key for continue : \n",
      "This Is Pythone 11\n",
      "This Is Pythone 12\n",
      "This Is Pythone 13\n",
      "This Is Pythone 14\n",
      "This Is Pythone 15\n",
      "\n",
      "Enter any key for continue : \n",
      "This Is Pythone 16\n",
      "This Is Pythone 17\n",
      "This Is Pythone 18\n",
      "This Is Pythone 19\n",
      "This Is Pythone 20\n",
      "\n",
      "Enter any key for continue : \n",
      "This Is Pythone 21\n",
      "This Is Pythone 22\n",
      "This Is Pythone 23\n",
      "This Is Pythone 24\n",
      "This Is Pythone 25\n",
      "\n",
      "Enter any key for continue : \n",
      "This Is Pythone 26\n",
      "This Is Pythone 27\n",
      "\n"
     ]
    }
   ],
   "source": [
    "a=input(\"Enter File Name : \")\n",
    "f=open(a,'r',encoding='utf-8')\n",
    "c=f.readlines()\n",
    "f1=open('task1.txt','w+')\n",
    "f1.writelines(c[:5:1])\n",
    "f1.close()\n",
    "f1=open('task1.txt','r')\n",
    "print(f1.read())\n",
    "a3=5\n",
    "# print(len(c))\n",
    "while True:\n",
    "    a1=input('Enter any key for continue : ')\n",
    "    if a1!=None and a1!='q':\n",
    "        f1=open('task1.txt','w+')\n",
    "        f1.writelines(c[a3:a3+5:1])\n",
    "        f1.close()\n",
    "        f1=open('task1.txt','r')\n",
    "        print(f1.read())\n",
    "        a3=a3+5\n",
    "        a1=a3\n",
    "        if a3>len(c):\n",
    "            print(f1.read())\n",
    "            break\n",
    "    elif a1=='q':\n",
    "        break\n",
    "    "
   ]
  },
  {
   "cell_type": "code",
   "execution_count": null,
   "metadata": {},
   "outputs": [],
   "source": [
    "\n",
    "\\"
   ]
  }
 ],
 "metadata": {
  "kernelspec": {
   "display_name": "Python 3",
   "language": "python",
   "name": "python3"
  },
  "language_info": {
   "codemirror_mode": {
    "name": "ipython",
    "version": 3
   },
   "file_extension": ".py",
   "mimetype": "text/x-python",
   "name": "python",
   "nbconvert_exporter": "python",
   "pygments_lexer": "ipython3",
   "version": "3.8.5"
  }
 },
 "nbformat": 4,
 "nbformat_minor": 4
}
