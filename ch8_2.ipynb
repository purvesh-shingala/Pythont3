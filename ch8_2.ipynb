{
 "cells": [
  {
   "cell_type": "code",
   "execution_count": 5,
   "metadata": {},
   "outputs": [
    {
     "name": "stdout",
     "output_type": "stream",
     "text": [
      "name :  Harry\n",
      "salary :  30000\n",
      "Role :  Manager\n",
      "name :  Rohan\n",
      "salary :  40000\n",
      "Role :  Developer\n"
     ]
    }
   ],
   "source": [
    "class Employee:\n",
    "    no_of_leaves=5\n",
    "    def printdata(self):\n",
    "        print('name : ',self.name)        \n",
    "        print('salary : ',self.salary)        \n",
    "        print('Role : ',self.role)\n",
    "harry= Employee()\n",
    "rohan=Employee()\n",
    "harry.name=\"Harry\"\n",
    "harry.salary=30000\n",
    "harry.role='Manager'\n",
    "rohan.name='Rohan'\n",
    "rohan.salary=40000\n",
    "rohan.role='Developer'\n",
    "harry.printdata()\n",
    "rohan.printdata()"
   ]
  },
  {
   "cell_type": "code",
   "execution_count": 6,
   "metadata": {},
   "outputs": [
    {
     "ename": "TypeError",
     "evalue": "printdata() takes 0 positional arguments but 1 was given",
     "output_type": "error",
     "traceback": [
      "\u001b[1;31m---------------------------------------------------------------------------\u001b[0m",
      "\u001b[1;31mTypeError\u001b[0m                                 Traceback (most recent call last)",
      "\u001b[1;32m<ipython-input-6-a883dea66c7c>\u001b[0m in \u001b[0;36m<module>\u001b[1;34m\u001b[0m\n\u001b[0;32m     13\u001b[0m \u001b[0mrohan\u001b[0m\u001b[1;33m.\u001b[0m\u001b[0msalary\u001b[0m\u001b[1;33m=\u001b[0m\u001b[1;36m40000\u001b[0m\u001b[1;33m\u001b[0m\u001b[1;33m\u001b[0m\u001b[0m\n\u001b[0;32m     14\u001b[0m \u001b[0mrohan\u001b[0m\u001b[1;33m.\u001b[0m\u001b[0mrole\u001b[0m\u001b[1;33m=\u001b[0m\u001b[1;34m'Developer'\u001b[0m\u001b[1;33m\u001b[0m\u001b[1;33m\u001b[0m\u001b[0m\n\u001b[1;32m---> 15\u001b[1;33m \u001b[0mharry\u001b[0m\u001b[1;33m.\u001b[0m\u001b[0mprintdata\u001b[0m\u001b[1;33m(\u001b[0m\u001b[1;33m)\u001b[0m\u001b[1;33m\u001b[0m\u001b[1;33m\u001b[0m\u001b[0m\n\u001b[0m\u001b[0;32m     16\u001b[0m \u001b[0mrohan\u001b[0m\u001b[1;33m.\u001b[0m\u001b[0mprintdata\u001b[0m\u001b[1;33m(\u001b[0m\u001b[1;33m)\u001b[0m\u001b[1;33m\u001b[0m\u001b[1;33m\u001b[0m\u001b[0m\n",
      "\u001b[1;31mTypeError\u001b[0m: printdata() takes 0 positional arguments but 1 was given"
     ]
    }
   ],
   "source": [
    "class Employee:\n",
    "    no_of_leaves=5\n",
    "    def printdata():\n",
    "        print('name : ',self.name)        \n",
    "        print('salary : ',self.salary)        \n",
    "        print('Role : ',self.role)\n",
    "harry= Employee()\n",
    "rohan=Employee()\n",
    "harry.name=\"Harry\"\n",
    "harry.salary=30000\n",
    "harry.role='Manager'\n",
    "rohan.name='Rohan'\n",
    "rohan.salary=40000\n",
    "rohan.role='Developer'\n",
    "harry.printdata()\n",
    "rohan.printdata()"
   ]
  },
  {
   "cell_type": "code",
   "execution_count": 14,
   "metadata": {},
   "outputs": [
    {
     "name": "stdout",
     "output_type": "stream",
     "text": [
      "name :  Harry\n",
      "salary :  30000\n",
      "Role :  Manager\n",
      "name :  Rohan\n",
      "salary :  40000\n",
      "Role :  Developer\n"
     ]
    }
   ],
   "source": [
    "class Employee:\n",
    "    no_of_leaves=5\n",
    "    def __init__ (self,name,salary,role):\n",
    "        self.name=name\n",
    "        self.role=role\n",
    "        self.salary=salary\n",
    "        \n",
    "    def printdata(self):\n",
    "        print('name : ',self.name)        \n",
    "        print('salary : ',self.salary)        \n",
    "        print('Role : ',self.role)\n",
    "harry= Employee('Harry',30000,'Manager')\n",
    "rohan=Employee('Rohan',40000,'Developer')\n",
    "harry.printdata()\n",
    "rohan.printdata()"
   ]
  },
  {
   "cell_type": "code",
   "execution_count": 18,
   "metadata": {},
   "outputs": [
    {
     "name": "stdout",
     "output_type": "stream",
     "text": [
      "adderess of self :  2389560186240\n",
      "Address of object :  2389560186240\n",
      "5\n",
      "adderess of self :  2389560187200\n",
      "Address of oj=bject :  2389560187200\n",
      "9\n"
     ]
    }
   ],
   "source": [
    "class check:\n",
    "    def __init__(self,m):\n",
    "        print(\"adderess of self : \",id(self))\n",
    "        self.m=m\n",
    "obj=check(5)\n",
    "print(\"Address of object : \",id(obj))\n",
    "print(obj.m)\n",
    "obj1=check(9)\n",
    "print('Address of oj=bject : ',id(obj1))\n",
    "print(obj1.m)"
   ]
  },
  {
   "cell_type": "code",
   "execution_count": 22,
   "metadata": {},
   "outputs": [
    {
     "name": "stdout",
     "output_type": "stream",
     "text": [
      "50\n"
     ]
    }
   ],
   "source": [
    "class test:\n",
    "    def __init__(self):\n",
    "        self.value=50\n",
    "        self.show()\n",
    "    def show(self):\n",
    "        print(self.value)\n",
    "a=test()"
   ]
  },
  {
   "cell_type": "code",
   "execution_count": 27,
   "metadata": {},
   "outputs": [
    {
     "name": "stdout",
     "output_type": "stream",
     "text": [
      "This is static method\n"
     ]
    }
   ],
   "source": [
    "class salary:\n",
    "    @staticmethod\n",
    "    def hello():\n",
    "        print('This is static method')\n",
    "a=salary()\n",
    "a.hello()"
   ]
  },
  {
   "cell_type": "code",
   "execution_count": 32,
   "metadata": {},
   "outputs": [
    {
     "name": "stdout",
     "output_type": "stream",
     "text": [
      "5 5 140721906001824 140721906001824\n",
      "10 5 140721906001984 140721906001824\n",
      "5\n",
      "10\n"
     ]
    }
   ],
   "source": [
    "class Account:\n",
    "    rate=5\n",
    "    def some_methode(self):\n",
    "        print(self.rate,Account.rate,id(self.rate),id(Account.rate))\n",
    "        self.rate=10\n",
    "        print(self.rate,Account.rate,id(self.rate),id(Account.rate))\n",
    "a1=Account()\n",
    "a2=Account()\n",
    "a1.some_methode()\n",
    "#print(self.rate)\n",
    "print(Account.rate)\n",
    "print(a1.rate)"
   ]
  },
  {
   "cell_type": "code",
   "execution_count": 34,
   "metadata": {},
   "outputs": [
    {
     "name": "stdout",
     "output_type": "stream",
     "text": [
      "25 30\n",
      "They are Different\n"
     ]
    }
   ],
   "source": [
    "class Person:\n",
    "    def __init__(self):\n",
    "        self.name='Harry'\n",
    "        self.age='30'\n",
    "    def update(self):\n",
    "        self.age=25\n",
    "    def compare(self,other):\n",
    "        print(self.age,other.age)\n",
    "        if self.age==other.age:\n",
    "            print('They are Same')\n",
    "        else:\n",
    "            print('They are Different')\n",
    "p1=Person()\n",
    "p2=Person()\n",
    "p1.update()\n",
    "p1.compare(p2)"
   ]
  },
  {
   "cell_type": "code",
   "execution_count": 37,
   "metadata": {},
   "outputs": [
    {
     "name": "stdout",
     "output_type": "stream",
     "text": [
      "This is parameterized counstuer\n",
      "10\n"
     ]
    }
   ],
   "source": [
    "class Employee:\n",
    "    def __init__(self,count):\n",
    "        print('This is parameterized counstuer')\n",
    "        self.numbers=count\n",
    "    def show(self):\n",
    "        print(self.numbers)\n",
    "obj=Employee(10)\n",
    "obj.show()\n",
    "        "
   ]
  },
  {
   "cell_type": "code",
   "execution_count": 41,
   "metadata": {},
   "outputs": [
    {
     "name": "stdout",
     "output_type": "stream",
     "text": [
      "This is Non-parameterized counstuer\n",
      "10\n"
     ]
    }
   ],
   "source": [
    "class Employee:\n",
    "    def __init__(self):\n",
    "        print('This is Non-parameterized counstuer')\n",
    "        self.numbers=10\n",
    "    def show(self):\n",
    "        print(self.numbers)\n",
    "obj=Employee()\n",
    "obj.show()\n",
    "        "
   ]
  },
  {
   "cell_type": "code",
   "execution_count": 42,
   "metadata": {},
   "outputs": [
    {
     "name": "stdout",
     "output_type": "stream",
     "text": [
      "not done\n"
     ]
    }
   ],
   "source": [
    "class Assignment:\n",
    "    check='not done'\n",
    "    def is_done(self):\n",
    "        print(self.check)\n",
    "obj=Assignment()\n",
    "obj.is_done()"
   ]
  },
  {
   "cell_type": "code",
   "execution_count": 43,
   "metadata": {},
   "outputs": [
    {
     "name": "stdout",
     "output_type": "stream",
     "text": [
      "name :  Harry\n",
      "salary :  30000\n",
      "Role :  Manager\n",
      "name :  Rohan\n",
      "salary :  40000\n",
      "Role :  Developer\n"
     ]
    },
    {
     "ename": "NameError",
     "evalue": "name 'roham' is not defined",
     "output_type": "error",
     "traceback": [
      "\u001b[1;31m---------------------------------------------------------------------------\u001b[0m",
      "\u001b[1;31mNameError\u001b[0m                                 Traceback (most recent call last)",
      "\u001b[1;32m<ipython-input-43-536e7222a144>\u001b[0m in \u001b[0;36m<module>\u001b[1;34m\u001b[0m\n\u001b[0;32m     16\u001b[0m \u001b[0mrohan\u001b[0m\u001b[1;33m.\u001b[0m\u001b[0mprintdata\u001b[0m\u001b[1;33m(\u001b[0m\u001b[1;33m)\u001b[0m\u001b[1;33m\u001b[0m\u001b[1;33m\u001b[0m\u001b[0m\n\u001b[0;32m     17\u001b[0m \u001b[1;32mdel\u001b[0m \u001b[0mrohan\u001b[0m\u001b[1;33m\u001b[0m\u001b[1;33m\u001b[0m\u001b[0m\n\u001b[1;32m---> 18\u001b[1;33m \u001b[0mroham\u001b[0m\u001b[1;33m.\u001b[0m\u001b[0mdisplay\u001b[0m\u001b[1;33m(\u001b[0m\u001b[1;33m)\u001b[0m\u001b[1;33m\u001b[0m\u001b[1;33m\u001b[0m\u001b[0m\n\u001b[0m",
      "\u001b[1;31mNameError\u001b[0m: name 'roham' is not defined"
     ]
    }
   ],
   "source": [
    "class Employee:\n",
    "    no_of_leaves=5\n",
    "    def __init__ (self,name,salary,role):\n",
    "        self.name=name\n",
    "        self.role=role\n",
    "        self.salary=salary\n",
    "        \n",
    "    def printdata(self):\n",
    "        print('name : ',self.name)        \n",
    "        print('salary : ',self.salary)        \n",
    "        print('Role : ',self.role)\n",
    "harry= Employee('Harry',30000,'Manager')\n",
    "rohan=Employee('Rohan',40000,'Developer')\n",
    "\n",
    "harry.printdata()\n",
    "rohan.printdata()\n",
    "del rohan\n",
    "roham.display()"
   ]
  },
  {
   "cell_type": "code",
   "execution_count": 45,
   "metadata": {},
   "outputs": [
    {
     "name": "stdout",
     "output_type": "stream",
     "text": [
      "object desstroyed\n",
      "name :  Harry\n",
      "salary :  30000\n",
      "Role :  Manager\n",
      "name :  Rohan\n",
      "salary :  40000\n",
      "Role :  Developer\n",
      "object desstroyed\n"
     ]
    }
   ],
   "source": [
    "class Employee:\n",
    "    no_of_leaves=5\n",
    "    def __init__ (self,name,salary,role):\n",
    "        self.name=name\n",
    "        self.role=role\n",
    "        self.salary=salary\n",
    "    def __del__ (self):\n",
    "        print('object desstroyed')\n",
    "        \n",
    "    def printdata(self):\n",
    "        print('name : ',self.name)        \n",
    "        print('salary : ',self.salary)        \n",
    "        print('Role : ',self.role)\n",
    "harry= Employee('Harry',30000,'Manager')\n",
    "rohan=Employee('Rohan',40000,'Developer')\n",
    "\n",
    "harry.printdata()\n",
    "rohan.printdata()\n",
    "del rohan\n"
   ]
  },
  {
   "cell_type": "code",
   "execution_count": 46,
   "metadata": {},
   "outputs": [
    {
     "name": "stdout",
     "output_type": "stream",
     "text": [
      "The name is : orange\n",
      "The name is : banana\n",
      "The name is : banana\n"
     ]
    }
   ],
   "source": [
    "class Fruit:\n",
    "    name='orange'\n",
    "    @classmethod\n",
    "    def print_name(cls):\n",
    "        print('The name is :',cls.name)\n",
    "Fruit.print_name()\n",
    "apple=Fruit()\n",
    "cherry=Fruit()\n",
    "Fruit.name='banana'\n",
    "apple.print_name()\n",
    "apple.Fruit='Mango'\n",
    "apple.print_name()"
   ]
  },
  {
   "cell_type": "code",
   "execution_count": null,
   "metadata": {},
   "outputs": [],
   "source": []
  }
 ],
 "metadata": {
  "kernelspec": {
   "display_name": "Python 3",
   "language": "python",
   "name": "python3"
  },
  "language_info": {
   "codemirror_mode": {
    "name": "ipython",
    "version": 3
   },
   "file_extension": ".py",
   "mimetype": "text/x-python",
   "name": "python",
   "nbconvert_exporter": "python",
   "pygments_lexer": "ipython3",
   "version": "3.8.5"
  }
 },
 "nbformat": 4,
 "nbformat_minor": 4
}
